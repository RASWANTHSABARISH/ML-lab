{
  "nbformat": 4,
  "nbformat_minor": 0,
  "metadata": {
    "colab": {
      "provenance": [],
      "authorship_tag": "ABX9TyN0ZAeH1qa9WhaYtciciVGw",
      "include_colab_link": true
    },
    "kernelspec": {
      "name": "python3",
      "display_name": "Python 3"
    },
    "language_info": {
      "name": "python"
    }
  },
  "cells": [
    {
      "cell_type": "markdown",
      "metadata": {
        "id": "view-in-github",
        "colab_type": "text"
      },
      "source": [
        "<a href=\"https://colab.research.google.com/github/RASWANTHSABARISH/ML-lab/blob/main/mlexp3.ipynb\" target=\"_parent\"><img src=\"https://colab.research.google.com/assets/colab-badge.svg\" alt=\"Open In Colab\"/></a>"
      ]
    },
    {
      "cell_type": "code",
      "source": [
        "# Import necessary libraries\n",
        "from sklearn import preprocessing\n",
        "from sklearn.naive_bayes import GaussianNB\n",
        "\n",
        "# Define the dataset\n",
        "weather = ['Sunny', 'Sunny', 'Overcast', 'Rainy', 'Rainy', 'Rainy', 'Overcast', 'Sunny', 'Sunny',\n",
        "           'Rainy', 'Sunny', 'Overcast', 'Overcast', 'Rainy']\n",
        "temp = ['Hot', 'Hot', 'Hot', 'Mild', 'Cool', 'Cool', 'Cool', 'Mild', 'Cool', 'Mild', 'Mild', 'Mild', 'Hot', 'Mild']\n",
        "play = ['No', 'No', 'Yes', 'Yes', 'Yes', 'No', 'Yes', 'No', 'Yes', 'Yes', 'Yes', 'Yes', 'Yes', 'No']\n",
        "\n",
        "# Creating LabelEncoder\n",
        "le = preprocessing.LabelEncoder()\n",
        "\n",
        "# Converting string labels into numbers\n",
        "weather_encoded = le.fit_transform(weather)\n",
        "temp_encoded = le.fit_transform(temp)\n",
        "label = le.fit_transform(play)\n",
        "\n",
        "# Print encoded values\n",
        "print(\"Weather Encoded:\", weather_encoded)\n",
        "print(\"Temp Encoded:\", temp_encoded)\n",
        "print(\"Play Encoded:\", label)\n",
        "\n",
        "# Combining weather and temp into a single list of tuples (features)\n",
        "features = list(zip(weather_encoded, temp_encoded))\n",
        "print(\"Features:\", features)\n",
        "\n",
        "# Create a Gaussian Naive Bayes classifier\n",
        "model = GaussianNB()\n",
        "\n",
        "# Train the model\n",
        "model.fit(features, label)\n",
        "\n",
        "# Predict Output for [Overcast, Mild] (encoded as [0,2])\n",
        "predicted = model.predict([[0, 2]])\n",
        "print(\"Predicted Value:\", predicted)"
      ],
      "metadata": {
        "colab": {
          "base_uri": "https://localhost:8080/"
        },
        "id": "BTTYIk9E5-2p",
        "outputId": "196abdb8-81d0-4037-d3e7-2721c468b09f"
      },
      "execution_count": null,
      "outputs": [
        {
          "output_type": "stream",
          "name": "stdout",
          "text": [
            "Weather Encoded: [2 2 0 1 1 1 0 2 2 1 2 0 0 1]\n",
            "Temp Encoded: [1 1 1 2 0 0 0 2 0 2 2 2 1 2]\n",
            "Play Encoded: [0 0 1 1 1 0 1 0 1 1 1 1 1 0]\n",
            "Features: [(2, 1), (2, 1), (0, 1), (1, 2), (1, 0), (1, 0), (0, 0), (2, 2), (2, 0), (1, 2), (2, 2), (0, 2), (0, 1), (1, 2)]\n",
            "Predicted Value: [1]\n"
          ]
        }
      ]
    }
  ]
}